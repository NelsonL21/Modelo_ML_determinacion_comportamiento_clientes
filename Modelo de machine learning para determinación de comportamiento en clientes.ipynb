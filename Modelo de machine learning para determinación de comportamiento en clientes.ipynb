{
 "cells": [
  {
   "cell_type": "markdown",
   "metadata": {
    "id": "upP1o8vxjUxH"
   },
   "source": [
    "# **Modelo de machine learning para determinación de comportamiento en clientes de la empresa MEGALINE**"
   ]
  },
  {
   "cell_type": "markdown",
   "metadata": {
    "id": "njeTllsNjh5U"
   },
   "source": [
    "<p> La compañía móvil Megaline no está satisfecha al ver que muchos de sus clientes utilizan planes heredados. Quieren desarrollar un modelo que pueda analizar el comportamiento de los clientes y recomendar uno de los nuevos planes de Megaline: Smart o Ultra.</p>\n",
    "\n",
    "<p> Se tiene acceso a los datos de comportamiento de los suscriptores que ya se han cambiado a los planes nuevos (del proyecto de Análisis estadístico de datos). </p>\n",
    "\n",
    "<p>\n",
    "Para esta tarea de clasificación se busca crear un modelo que escoja el plan correcto para cada usuario. \n",
    "</p>"
   ]
  },
  {
   "cell_type": "markdown",
   "metadata": {
    "id": "Hyx3l7VwG-5D"
   },
   "source": [
    "## **Descripción de los datos** \n"
   ]
  },
  {
   "cell_type": "markdown",
   "metadata": {
    "id": "FART_BP1ZZak"
   },
   "source": [
    "<p>Cada observación en el dataset contiene información del comportamiento mensual sobre un usuario. La información dada es la siguiente:</p>\n",
    "\n",
    "* `сalls` — número de llamadas,\n",
    "* `minutes` — duración total de la llamada en minutos,\n",
    "* `messages` — número de mensajes de texto,\n",
    "* `mb_used` — Tráfico de Internet utilizado en MB,\n",
    "* `is_ultra` — plan para el mes actual (Ultra - 1, Smart - 0)."
   ]
  },
  {
   "cell_type": "markdown",
   "metadata": {
    "id": "0I8EhQMyj4rX"
   },
   "source": [
    "## **Librerías** \n",
    "\n",
    "\n"
   ]
  },
  {
   "cell_type": "code",
   "execution_count": 16,
   "metadata": {
    "id": "Rsa9Y1FkirjS"
   },
   "outputs": [],
   "source": [
    "import pandas as pd                                         #Librería para leer el DataSet\n",
    "\n",
    "from sklearn.tree import DecisionTreeClassifier             #Modelo arbol de clasificación\n",
    "from sklearn.ensemble import RandomForestClassifier         #Modelo arbol de clasificación aleatorio\n",
    "from sklearn.linear_model import LogisticRegression         #Modelo de regreción logística\n",
    "\n",
    "from sklearn.model_selection import train_test_split        #Para dividir en conjunto de prueba y entrenamiento\n",
    "from sklearn.metrics import accuracy_score                  #Para medir la exactitud del modelo\n",
    "from sklearn.metrics import precision_score\n",
    "from sklearn.metrics import recall_score\n",
    "from sklearn.metrics import confusion_matrix\n"
   ]
  },
  {
   "cell_type": "markdown",
   "metadata": {
    "id": "jjfNwQN_kHPL"
   },
   "source": [
    "## **Visualización de la data** "
   ]
  },
  {
   "cell_type": "markdown",
   "metadata": {
    "id": "3WKxJflXkS_E"
   },
   "source": [
    "<p>Primeramente se procede a observar la data, para luego proceder a la determinación del modelo ótimo de clasificación necesario</p>"
   ]
  },
  {
   "cell_type": "code",
   "execution_count": 17,
   "metadata": {
    "colab": {
     "base_uri": "https://localhost:8080/",
     "height": 206
    },
    "id": "6wQoRzP5kGMR",
    "outputId": "82c95352-328e-4762-be9f-792e733759cd"
   },
   "outputs": [
    {
     "data": {
      "text/html": [
       "\n",
       "  <div id=\"df-fe479cad-f6d3-4b6d-a202-0678a78a3074\">\n",
       "    <div class=\"colab-df-container\">\n",
       "      <div>\n",
       "<style scoped>\n",
       "    .dataframe tbody tr th:only-of-type {\n",
       "        vertical-align: middle;\n",
       "    }\n",
       "\n",
       "    .dataframe tbody tr th {\n",
       "        vertical-align: top;\n",
       "    }\n",
       "\n",
       "    .dataframe thead th {\n",
       "        text-align: right;\n",
       "    }\n",
       "</style>\n",
       "<table border=\"1\" class=\"dataframe\">\n",
       "  <thead>\n",
       "    <tr style=\"text-align: right;\">\n",
       "      <th></th>\n",
       "      <th>calls</th>\n",
       "      <th>minutes</th>\n",
       "      <th>messages</th>\n",
       "      <th>mb_used</th>\n",
       "      <th>is_ultra</th>\n",
       "    </tr>\n",
       "  </thead>\n",
       "  <tbody>\n",
       "    <tr>\n",
       "      <th>0</th>\n",
       "      <td>40.0</td>\n",
       "      <td>311.90</td>\n",
       "      <td>83.0</td>\n",
       "      <td>19915.42</td>\n",
       "      <td>0</td>\n",
       "    </tr>\n",
       "    <tr>\n",
       "      <th>1</th>\n",
       "      <td>85.0</td>\n",
       "      <td>516.75</td>\n",
       "      <td>56.0</td>\n",
       "      <td>22696.96</td>\n",
       "      <td>0</td>\n",
       "    </tr>\n",
       "    <tr>\n",
       "      <th>2</th>\n",
       "      <td>77.0</td>\n",
       "      <td>467.66</td>\n",
       "      <td>86.0</td>\n",
       "      <td>21060.45</td>\n",
       "      <td>0</td>\n",
       "    </tr>\n",
       "    <tr>\n",
       "      <th>3</th>\n",
       "      <td>106.0</td>\n",
       "      <td>745.53</td>\n",
       "      <td>81.0</td>\n",
       "      <td>8437.39</td>\n",
       "      <td>1</td>\n",
       "    </tr>\n",
       "    <tr>\n",
       "      <th>4</th>\n",
       "      <td>66.0</td>\n",
       "      <td>418.74</td>\n",
       "      <td>1.0</td>\n",
       "      <td>14502.75</td>\n",
       "      <td>0</td>\n",
       "    </tr>\n",
       "  </tbody>\n",
       "</table>\n",
       "</div>\n",
       "      <button class=\"colab-df-convert\" onclick=\"convertToInteractive('df-fe479cad-f6d3-4b6d-a202-0678a78a3074')\"\n",
       "              title=\"Convert this dataframe to an interactive table.\"\n",
       "              style=\"display:none;\">\n",
       "        \n",
       "  <svg xmlns=\"http://www.w3.org/2000/svg\" height=\"24px\"viewBox=\"0 0 24 24\"\n",
       "       width=\"24px\">\n",
       "    <path d=\"M0 0h24v24H0V0z\" fill=\"none\"/>\n",
       "    <path d=\"M18.56 5.44l.94 2.06.94-2.06 2.06-.94-2.06-.94-.94-2.06-.94 2.06-2.06.94zm-11 1L8.5 8.5l.94-2.06 2.06-.94-2.06-.94L8.5 2.5l-.94 2.06-2.06.94zm10 10l.94 2.06.94-2.06 2.06-.94-2.06-.94-.94-2.06-.94 2.06-2.06.94z\"/><path d=\"M17.41 7.96l-1.37-1.37c-.4-.4-.92-.59-1.43-.59-.52 0-1.04.2-1.43.59L10.3 9.45l-7.72 7.72c-.78.78-.78 2.05 0 2.83L4 21.41c.39.39.9.59 1.41.59.51 0 1.02-.2 1.41-.59l7.78-7.78 2.81-2.81c.8-.78.8-2.07 0-2.86zM5.41 20L4 18.59l7.72-7.72 1.47 1.35L5.41 20z\"/>\n",
       "  </svg>\n",
       "      </button>\n",
       "      \n",
       "  <style>\n",
       "    .colab-df-container {\n",
       "      display:flex;\n",
       "      flex-wrap:wrap;\n",
       "      gap: 12px;\n",
       "    }\n",
       "\n",
       "    .colab-df-convert {\n",
       "      background-color: #E8F0FE;\n",
       "      border: none;\n",
       "      border-radius: 50%;\n",
       "      cursor: pointer;\n",
       "      display: none;\n",
       "      fill: #1967D2;\n",
       "      height: 32px;\n",
       "      padding: 0 0 0 0;\n",
       "      width: 32px;\n",
       "    }\n",
       "\n",
       "    .colab-df-convert:hover {\n",
       "      background-color: #E2EBFA;\n",
       "      box-shadow: 0px 1px 2px rgba(60, 64, 67, 0.3), 0px 1px 3px 1px rgba(60, 64, 67, 0.15);\n",
       "      fill: #174EA6;\n",
       "    }\n",
       "\n",
       "    [theme=dark] .colab-df-convert {\n",
       "      background-color: #3B4455;\n",
       "      fill: #D2E3FC;\n",
       "    }\n",
       "\n",
       "    [theme=dark] .colab-df-convert:hover {\n",
       "      background-color: #434B5C;\n",
       "      box-shadow: 0px 1px 3px 1px rgba(0, 0, 0, 0.15);\n",
       "      filter: drop-shadow(0px 1px 2px rgba(0, 0, 0, 0.3));\n",
       "      fill: #FFFFFF;\n",
       "    }\n",
       "  </style>\n",
       "\n",
       "      <script>\n",
       "        const buttonEl =\n",
       "          document.querySelector('#df-fe479cad-f6d3-4b6d-a202-0678a78a3074 button.colab-df-convert');\n",
       "        buttonEl.style.display =\n",
       "          google.colab.kernel.accessAllowed ? 'block' : 'none';\n",
       "\n",
       "        async function convertToInteractive(key) {\n",
       "          const element = document.querySelector('#df-fe479cad-f6d3-4b6d-a202-0678a78a3074');\n",
       "          const dataTable =\n",
       "            await google.colab.kernel.invokeFunction('convertToInteractive',\n",
       "                                                     [key], {});\n",
       "          if (!dataTable) return;\n",
       "\n",
       "          const docLinkHtml = 'Like what you see? Visit the ' +\n",
       "            '<a target=\"_blank\" href=https://colab.research.google.com/notebooks/data_table.ipynb>data table notebook</a>'\n",
       "            + ' to learn more about interactive tables.';\n",
       "          element.innerHTML = '';\n",
       "          dataTable['output_type'] = 'display_data';\n",
       "          await google.colab.output.renderOutput(dataTable, element);\n",
       "          const docLink = document.createElement('div');\n",
       "          docLink.innerHTML = docLinkHtml;\n",
       "          element.appendChild(docLink);\n",
       "        }\n",
       "      </script>\n",
       "    </div>\n",
       "  </div>\n",
       "  "
      ],
      "text/plain": [
       "   calls  minutes  messages   mb_used  is_ultra\n",
       "0   40.0   311.90      83.0  19915.42         0\n",
       "1   85.0   516.75      56.0  22696.96         0\n",
       "2   77.0   467.66      86.0  21060.45         0\n",
       "3  106.0   745.53      81.0   8437.39         1\n",
       "4   66.0   418.74       1.0  14502.75         0"
      ]
     },
     "execution_count": 17,
     "metadata": {},
     "output_type": "execute_result"
    }
   ],
   "source": [
    "users = pd.read_csv('/content/drive/MyDrive/practicum/Sprint7/users_behavior.csv')\n",
    "users.head()"
   ]
  },
  {
   "cell_type": "markdown",
   "metadata": {
    "id": "nRi_SAUuHxf1"
   },
   "source": [
    "Se procede a verificar los valores ausentes y tipos de dato"
   ]
  },
  {
   "cell_type": "code",
   "execution_count": 18,
   "metadata": {
    "colab": {
     "base_uri": "https://localhost:8080/"
    },
    "id": "7sTY4uRDk4OD",
    "outputId": "0ccbf590-5822-4095-f5b6-c623b25f26d8"
   },
   "outputs": [
    {
     "name": "stdout",
     "output_type": "stream",
     "text": [
      "<class 'pandas.core.frame.DataFrame'>\n",
      "RangeIndex: 3214 entries, 0 to 3213\n",
      "Data columns (total 5 columns):\n",
      " #   Column    Non-Null Count  Dtype  \n",
      "---  ------    --------------  -----  \n",
      " 0   calls     3214 non-null   float64\n",
      " 1   minutes   3214 non-null   float64\n",
      " 2   messages  3214 non-null   float64\n",
      " 3   mb_used   3214 non-null   float64\n",
      " 4   is_ultra  3214 non-null   int64  \n",
      "dtypes: float64(4), int64(1)\n",
      "memory usage: 125.7 KB\n"
     ]
    }
   ],
   "source": [
    "users.info()"
   ]
  },
  {
   "cell_type": "markdown",
   "metadata": {
    "id": "yub08T6EH34S"
   },
   "source": [
    "Todo se encuentra en orden por lo que se procede a relaizar lo modelos pertinentes"
   ]
  },
  {
   "cell_type": "markdown",
   "metadata": {
    "id": "vD7Me0JRnJkV"
   },
   "source": [
    "## **Modelo de Machine Learning** "
   ]
  },
  {
   "cell_type": "markdown",
   "metadata": {
    "id": "9PfJh2ZRY4yt"
   },
   "source": [
    "### **Segmentación del conjunto de datos**"
   ]
  },
  {
   "cell_type": "markdown",
   "metadata": {
    "id": "ZdHwLqI7nY5e"
   },
   "source": [
    "<p>Lo que se busca en este paso, es desarrollar 3 tipos diferentes de modelos de predicción para la clasifiación y luego determinar cual es el más exacto y preciso con una sensibilidad razonable</p> "
   ]
  },
  {
   "cell_type": "markdown",
   "metadata": {
    "id": "leeQWDjzP1Au"
   },
   "source": [
    "<p>Primeramente Observamos la cantidad de caracteristicas (columnas) y de observaciones (filas) que tiene nuestro DataSet.</p>"
   ]
  },
  {
   "cell_type": "code",
   "execution_count": 19,
   "metadata": {
    "colab": {
     "base_uri": "https://localhost:8080/"
    },
    "id": "CsravMYKtzBt",
    "outputId": "8eb13a00-7f37-44d2-ad8b-894f811b1a15"
   },
   "outputs": [
    {
     "data": {
      "text/plain": [
       "(3214, 5)"
      ]
     },
     "execution_count": 19,
     "metadata": {},
     "output_type": "execute_result"
    }
   ],
   "source": [
    "users.shape"
   ]
  },
  {
   "cell_type": "markdown",
   "metadata": {
    "id": "12kPfKgFRULg"
   },
   "source": [
    "<p>Como se puede observar, se cuenta con 3214 observaciones y 5 características</p>\n",
    "<p>Ahora, se procede a, separar nmuestro modelo en 3 conjuntos:</p>\n",
    "\n",
    "* Entrenamiento: `users_train` (60% de los datos)\n",
    "* Validación: `users_valid` (20% de los datos) \n",
    "* Prueba: `users_probe` (20% de los datos)"
   ]
  },
  {
   "cell_type": "code",
   "execution_count": 20,
   "metadata": {
    "id": "oXRZE7dYt3T6"
   },
   "outputs": [],
   "source": [
    "features = users.drop('is_ultra', axis = 1)\n",
    "target = users['is_ultra']\n",
    "\n",
    "features_train, features_valid,  target_train, target_valid=  train_test_split(features, target, test_size = 0.40, random_state=12345)\n",
    "features_valid, features_probe,  target_valid, target_probe=  train_test_split(features_valid, target_valid, test_size = 0.50, random_state=12345)\n"
   ]
  },
  {
   "cell_type": "markdown",
   "metadata": {
    "id": "E1FgnTT3SSdR"
   },
   "source": [
    "Se observa el tamaño de cada conjunto de datos:"
   ]
  },
  {
   "cell_type": "code",
   "execution_count": 21,
   "metadata": {
    "colab": {
     "base_uri": "https://localhost:8080/"
    },
    "id": "fEYy68sLpf7O",
    "outputId": "63b2088c-9898-4e30-c999-65a238806528"
   },
   "outputs": [
    {
     "data": {
      "text/plain": [
       "(1928, 4)"
      ]
     },
     "execution_count": 21,
     "metadata": {},
     "output_type": "execute_result"
    }
   ],
   "source": [
    "features_train.shape"
   ]
  },
  {
   "cell_type": "code",
   "execution_count": 22,
   "metadata": {
    "colab": {
     "base_uri": "https://localhost:8080/"
    },
    "id": "CVwPDeUStkR3",
    "outputId": "4e68787c-30db-4454-9527-7ca9d83c6cef"
   },
   "outputs": [
    {
     "data": {
      "text/plain": [
       "(643, 4)"
      ]
     },
     "execution_count": 22,
     "metadata": {},
     "output_type": "execute_result"
    }
   ],
   "source": [
    "features_valid.shape"
   ]
  },
  {
   "cell_type": "code",
   "execution_count": 23,
   "metadata": {
    "colab": {
     "base_uri": "https://localhost:8080/"
    },
    "id": "Oo3Lw64itoB5",
    "outputId": "8b59152f-b236-4674-ebec-889f7c7ab2e8"
   },
   "outputs": [
    {
     "data": {
      "text/plain": [
       "(643, 4)"
      ]
     },
     "execution_count": 23,
     "metadata": {},
     "output_type": "execute_result"
    }
   ],
   "source": [
    "features_probe.shape"
   ]
  },
  {
   "cell_type": "markdown",
   "metadata": {
    "id": "7gh9vOydSgN7"
   },
   "source": [
    "Se paramos cada conjunto en sus caracteristicas (features) que el modelo utilizará para predecir los objetivos (target) que en este caso es el tipo de plan al que debe pertenecer cada persona"
   ]
  },
  {
   "cell_type": "markdown",
   "metadata": {
    "id": "UsJWYLq9TGpe"
   },
   "source": [
    "Ahora, se procede a realizar los 3 modelos para deteminar cual de ellos arroja los mejores resultados:\n",
    "\n",
    "* Árbol de decisión\n",
    "* Bosque aleatorio de decisión\n",
    "* Regresón logística"
   ]
  },
  {
   "cell_type": "markdown",
   "metadata": {
    "id": "o2-dXphdntah"
   },
   "source": [
    "### **Árbol de decisiones**"
   ]
  },
  {
   "cell_type": "markdown",
   "metadata": {
    "id": "Xb58j-gkUy5R"
   },
   "source": [
    "Se procede a realizar un modelo de arbol de decisión, para el cual se decide variar el hiperparámetro de la profundidad del mismo con un ciclo `for`, para obtener el resultado más óptimo."
   ]
  },
  {
   "cell_type": "code",
   "execution_count": 24,
   "metadata": {
    "colab": {
     "base_uri": "https://localhost:8080/"
    },
    "id": "MDWXxJjCuw2y",
    "outputId": "a868b6fe-6b68-47bc-fb68-374e4008a528"
   },
   "outputs": [
    {
     "name": "stdout",
     "output_type": "stream",
     "text": [
      "El mejor modelo modelo cuenta con 78.5381% de exactitud\n",
      "\n",
      "Empleando:\n",
      "max_depth = 3 \n",
      "\n",
      "La precisión del modelo es: 43.9153%\n",
      "\n",
      "La sensibilidad del modelo es: 72.1739%\n"
     ]
    }
   ],
   "source": [
    "best_model_ad = None\n",
    "best_result_ad = 0\n",
    "best_depth_ad = 0\n",
    "best_presicion = 0\n",
    "best_recall = 0\n",
    "for depth in range(1, 11):\n",
    "  model_ad = DecisionTreeClassifier(random_state=12345, max_depth= depth)\n",
    "  model_ad.fit(features_train,target_train)\n",
    "  result = model_ad.score(features_valid,target_valid)\n",
    "  precision = precision_score(model_ad.predict(features_valid),target_valid)\n",
    "  recall = recall_score(model_ad.predict(features_valid),target_valid)\n",
    "\n",
    "  if result > best_result_ad:\n",
    "    best_model_ad = model_ad\n",
    "    best_depth_ad = depth\n",
    "    best_result_ad = result\n",
    "    best_presicion =  precision\n",
    "    best_recall = recall  \n",
    "    \n",
    "  \n",
    "print(f'El mejor modelo modelo cuenta con {round(best_result_ad*100,4)}% de exactitud\\n\\nEmpleando:\\nmax_depth = {best_depth_ad} \\n')\n",
    "print(f'La precisión del modelo es: {round(best_presicion*100,4)}%\\n')\n",
    "print(f'La sensibilidad del modelo es: {round(best_recall*100,4)}%')"
   ]
  },
  {
   "cell_type": "markdown",
   "metadata": {
    "id": "yY8XT7O_YmdF"
   },
   "source": [
    "#### **Conlusión intermedia** "
   ]
  },
  {
   "cell_type": "markdown",
   "metadata": {
    "id": "zrXG0UCyTqXp"
   },
   "source": [
    "\n",
    "\n",
    "<p>Como se observa, el mejor modelo se consiguió con un árbol con 3 niveles de profundidad. El mismo tiene una muy buena exactitud de 78.5381%, con una precisión 43.9153%, con una sensibilidad del 72.1739%.</p>\n",
    "\n",
    "<p>El modelo se podría decir que no está sobreajustado, y logra encontrar al 72% de los valores que efectivamente pertenecen al plan ultra, por esta misma razón la presición es de un 44% ya que se está toamando un conjunto de datos grande, y de ellos solo una fracción son verdaderamente son de este plan. </p>\n",
    "\n",
    "<p>En este caso está bien, ya que nos interesa tomar en cuenta una gran población de data y detemrinar quiene spueden o no ser del plan ultra y a costa de ellos se comenten algunos errores </p>"
   ]
  },
  {
   "cell_type": "markdown",
   "metadata": {
    "id": "oNKfEcHfoFlA"
   },
   "source": [
    "### **Bosque aleatorio de decisiones**  \n",
    "\n"
   ]
  },
  {
   "cell_type": "code",
   "execution_count": 25,
   "metadata": {
    "colab": {
     "base_uri": "https://localhost:8080/"
    },
    "id": "ZpKVWIeToS7i",
    "outputId": "9f41d236-5b06-4a44-c65e-81e3ba178a6a"
   },
   "outputs": [
    {
     "name": "stdout",
     "output_type": "stream",
     "text": [
      "El mejor modelo cuenta con un 80.7154% de exactitud\n",
      "\n",
      "Empleando:\n",
      "max_depth = 8\n",
      "n_estimators = 41\n",
      " \n",
      "La precisión del modelo es: 48.6772%\n",
      "\n",
      "La sensibilidad del modelo es: 77.3109%\n",
      "\n"
     ]
    }
   ],
   "source": [
    "best_model_bd = None\n",
    "best_n_estimators = 0\n",
    "best_result_bd = 0\n",
    "best_depth_bd = 0\n",
    "best_presicion = 0\n",
    "best_recall = 0\n",
    "for estim in range(1,52,10):\n",
    "  for depth in range(1, 11):\n",
    "    model_bd = RandomForestClassifier(random_state=12345, n_estimators = estim, max_depth = depth) \n",
    "    model_bd.fit(features_train,target_train)\n",
    "    result = model_bd.score(features_valid, target_valid)\n",
    "    precision = precision_score(model_bd.predict(features_valid),target_valid)\n",
    "    recall = recall_score(model_bd.predict(features_valid),target_valid)\n",
    "\n",
    "    if result > best_result_bd:\n",
    "      best_model_bd = model_bd\n",
    "      best_depth_bd = depth\n",
    "      best_n_estimators = estim\n",
    "      best_result_bd = result   \n",
    "      best_presicion =  precision\n",
    "      best_recall = recall  \n",
    "print(f'El mejor modelo cuenta con un {round(best_result_bd*100,4)}% de exactitud\\n\\nEmpleando:\\nmax_depth = {best_depth_bd}\\nn_estimators = {best_n_estimators}\\n ')\n",
    "print(f'La precisión del modelo es: {round(best_presicion*100,4)}%\\n')\n",
    "print(f'La sensibilidad del modelo es: {round(best_recall*100,4)}%\\n')"
   ]
  },
  {
   "cell_type": "markdown",
   "metadata": {
    "id": "hf9ncMx6Z4Eb"
   },
   "source": [
    "#### **Conlusión intermedia**"
   ]
  },
  {
   "cell_type": "markdown",
   "metadata": {
    "id": "7k3ZT0r6Z6Yj"
   },
   "source": [
    "<p>Como se observa, el mejor modelo se consiguió con un bosque de árboles que cuenta con 8 niveles de profundidad y 41 estimadores. Con este modelo se logró obtener una exactitud de 80.7154%, con una precisión 48.6772%, y una sensibilidad del 77.3109%.</p>\n",
    "\n",
    "<p>El modelo no está sobreajustado, y logra encontrar al 77% de los valores que efectivamente pertenecen al plan ultra, mucho mejor que en el modelo del arbol decisión, por esta misma razón la precisión es de un 48% sin embargo es más alta que en el caso anterior. </p>\n",
    "\n",
    "<p>Este modelo es el seleccionado por ajora, ya que cumple con los objetivos que nos planteamos, aunque es un tanto lento, la cantidad de data no estan elevada como para que esto sea un factor determinante. </p>"
   ]
  },
  {
   "cell_type": "markdown",
   "metadata": {
    "id": "WSeLINWPoNfc"
   },
   "source": [
    "### **Regresión logística** "
   ]
  },
  {
   "cell_type": "code",
   "execution_count": 26,
   "metadata": {
    "colab": {
     "base_uri": "https://localhost:8080/"
    },
    "id": "PefdAJbboTSe",
    "outputId": "cecc3f18-3f19-4c11-8a26-7374ca8b67a2"
   },
   "outputs": [
    {
     "name": "stdout",
     "output_type": "stream",
     "text": [
      "El modelo tiene una exactitud de: 75.8942%\n",
      "\n",
      "La presicion del modelo es: 22.7513%\n",
      "\n",
      "La sensibilidad del modelo es: 82.6923%\n",
      "\n"
     ]
    }
   ],
   "source": [
    "model_rl = LogisticRegression(random_state=12345, solver='liblinear')\n",
    "model_rl.fit(features_train,target_train) \n",
    "score_valid = model_rl.score(features_valid,target_valid) \n",
    "precision = precision_score(model_rl.predict(features_valid),target_valid)\n",
    "recall = recall_score(model_rl.predict(features_valid),target_valid)\n",
    "\n",
    "print(f'El modelo tiene una exactitud de: {round(score_valid*100,4)}%\\n')\n",
    "print(f'La presicion del modelo es: {round(precision*100,4)}%\\n')\n",
    "print(f'La sensibilidad del modelo es: {round(recall*100,4)}%\\n')"
   ]
  },
  {
   "cell_type": "markdown",
   "metadata": {
    "id": "m-PDSWd4cew6"
   },
   "source": [
    "#### **Conlusión intermedia** "
   ]
  },
  {
   "cell_type": "markdown",
   "metadata": {
    "id": "jiwm3IqQch1H"
   },
   "source": [
    "<p>Como se observa, en este caso se obtuvo la exactitud más baja, con un 75.8942%, una presición que deja bastante que desear de un 22.7513% y una sensibilidad elevada de un 82.6923% con lo cual se puede decir que no cumple como candidato para el caso de estudio</p>\n"
   ]
  },
  {
   "cell_type": "markdown",
   "metadata": {
    "id": "3INIl9qsCeP7"
   },
   "source": [
    "### **Prueba al mejor modelo** "
   ]
  },
  {
   "cell_type": "markdown",
   "metadata": {
    "id": "neCcGpIXdbom"
   },
   "source": [
    "Ahora volvemos a probar el modelo, pero esta vez con el conjunto de prueba, para determinar si los valores sigue sinedo aceptables"
   ]
  },
  {
   "cell_type": "code",
   "execution_count": 27,
   "metadata": {
    "colab": {
     "base_uri": "https://localhost:8080/"
    },
    "id": "UULyI0K1_K9i",
    "outputId": "b9794693-36b6-4579-9a63-df12bf1e3af4"
   },
   "outputs": [
    {
     "name": "stdout",
     "output_type": "stream",
     "text": [
      "El modelo tiene una exactitud de: 79.7823%\n",
      "\n",
      "La precisión del modelo es: 48.6772%\n",
      "\n",
      "La sensibilidad del modelo es: 77.3109%\n",
      "\n"
     ]
    }
   ],
   "source": [
    "result = best_model_bd.score(features_probe, target_probe)\n",
    "precision = precision_score(best_model_bd.predict(features_probe),target_probe)\n",
    "recall = recall_score(best_model_bd.predict(features_probe),target_probe)\n",
    "\n",
    "print(f'El modelo tiene una exactitud de: {round(result *100,4)}%\\n')\n",
    "print(f'La precisión del modelo es: {round(best_presicion*100,4)}%\\n')\n",
    "print(f'La sensibilidad del modelo es: {round(best_recall*100,4)}%\\n')"
   ]
  },
  {
   "cell_type": "markdown",
   "metadata": {
    "id": "kOlpGGRxftV-"
   },
   "source": [
    "EN este caso disminuyó un poco la el resultado, sin embargo, sigue siendo un mejor candidato que los anteriores. Por lo que ahora se procede a entrenar el modelo con todos los datos, para mejorarlo y volver a probar. Para ello, vamos a unir el conjunto de `features_train` con `features_valid` y del mismo modo a `target_train` con `target_valid` para luego volver a ahcer la prueba con: `features_probe` y `target_probe`"
   ]
  },
  {
   "cell_type": "code",
   "execution_count": 34,
   "metadata": {
    "id": "CDL3i9g7Mt9f"
   },
   "outputs": [],
   "source": [
    "feaures_train_2 = pd.concat([features_train,features_valid], axis = 0)\n",
    "target_train_2 = pd.concat([target_train,target_valid], axis = 0)"
   ]
  },
  {
   "cell_type": "markdown",
   "metadata": {
    "id": "EF7FCShbNRm7"
   },
   "source": [
    "Se procede a entrenar y probar el modelo"
   ]
  },
  {
   "cell_type": "code",
   "execution_count": 35,
   "metadata": {
    "colab": {
     "base_uri": "https://localhost:8080/"
    },
    "id": "qfGof7bNDoFp",
    "outputId": "943333e5-48d9-47b3-c5ed-ba2f97556df0"
   },
   "outputs": [
    {
     "name": "stdout",
     "output_type": "stream",
     "text": [
      "El modelo tiene una exactitud de: 79.9378%\n",
      "\n",
      "La presicion del modelo es: 52.2167%\n",
      "\n",
      "La sensibilidad del modelo es: 76.8116%\n",
      "\n",
      "La matriz de confusión del modelo es:\n",
      "\n",
      "[[408  97]\n",
      " [ 32 106]]\n"
     ]
    }
   ],
   "source": [
    "model_bd = RandomForestClassifier(random_state=12345, n_estimators = 41, max_depth = 8) \n",
    "model_bd.fit(feaures_train_2,target_train_2)\n",
    "result = model_bd.score(features_probe, target_probe)\n",
    "\n",
    "precision = precision_score(model_bd.predict(features_probe),target_probe)\n",
    "recall = recall_score(model_bd.predict(features_probe),target_probe)\n",
    "matrix = confusion_matrix(model_bd.predict(features_probe),target_probe)\n",
    "\n",
    "print(f'El modelo tiene una exactitud de: {round(result *100,4)}%\\n')\n",
    "print(f'La presicion del modelo es: {round(precision*100,4)}%\\n')\n",
    "print(f'La sensibilidad del modelo es: {round(recall*100,4)}%\\n')\n",
    "print(f'La matriz de confusión del modelo es:\\n\\n{matrix}')"
   ]
  },
  {
   "cell_type": "markdown",
   "metadata": {
    "id": "oK8xIVyzf_Wv"
   },
   "source": [
    "#### **Conlusión intermedia**"
   ]
  },
  {
   "cell_type": "markdown",
   "metadata": {
    "id": "LigMfJIKmIJA"
   },
   "source": [
    "Al aumentar la cantidad de datos para el entrenamiento, los resultados mejoraron substancialmente, llegando a un 79.93% de exactitud, 52.22% de precisión y una sensibilidad 76.81%, siendo un modelo un poco mejor que el anterior, lo cual es excelente, así mismo se muestra matriz de confusión de la cual salen los valores antes mencionados, pudienco concluir que el modelo puede ser utilizado para realizar predicciones, cercanas a la realidad."
   ]
  },
  {
   "cell_type": "markdown",
   "metadata": {
    "id": "XG_IXmerZg3F"
   },
   "source": [
    "## **Conclusión General**"
   ]
  },
  {
   "cell_type": "markdown",
   "metadata": {
    "id": "tqAAWCkyZrXM"
   },
   "source": [
    "<p> \n",
    "La compañía móvil Megaline requería desarrollar un modelo capaz de analizar el comportamiento de los clientes y recomendar uno de los nuevos planes de Megaline: Smart o Ultra.\n",
    "</p>\n",
    "\n",
    "<p> \n",
    "Para ello se realizaron pruebas con 3 modelos diferentes de clasificación, para poder determinar cual es ellos arrojó mejores resultados. Y así detemrinar basado en la data suministrada, cuales son los planes óptimos para cada usuario.</p>\n",
    "\n",
    "<p>\n",
    "El arbol de decisión en su mejor modelo consiguió una muy buena exactitud de 78.5381%, con una precisión 43.9153%, y una sensibilidad del 72.1739%, lograno un buen modelo, más no fué el elegido.\n",
    "</p>\n",
    "\n",
    "<p>\n",
    "Así mismo, empleando un bosque de árboles de decisón alreatorio que cuenta con 8 niveles de profundidad y 41 estimadores se logró obtener una exactitud de 80.7154%, con una precisión 48.6772%, y una sensibilidad del 77.3109%. Los cuales fueron valores excelentes para el objetivo que se quiere. Aunque un poco más lento nque la opción anterior, es razonable.\n",
    "</p>\n",
    "\n",
    "<p>\n",
    "Por último la regrsión logística dejo mucho que desear en este caso, con un 75.8942%, una presición de un 22.7513% y una sensibilidad elevada de un 82.6923% con lo cual se puede decir que no cumple como candidato para el caso de estudio\n",
    "</p>\n",
    "\n",
    "\n",
    "<p>\n",
    "Es por ello que se optó por reentrenar el modelo empleando un bosque de árboles de decisón alreatorio el cual como se evidencia en la matriz de confusión tiene valores bastante buenos y nos permite recomendar correctamente a el plan a los clientes.\n",
    "</p>"
   ]
  }
 ],
 "metadata": {
  "colab": {
   "provenance": []
  },
  "kernelspec": {
   "display_name": "Python 3 (ipykernel)",
   "language": "python",
   "name": "python3"
  },
  "language_info": {
   "codemirror_mode": {
    "name": "ipython",
    "version": 3
   },
   "file_extension": ".py",
   "mimetype": "text/x-python",
   "name": "python",
   "nbconvert_exporter": "python",
   "pygments_lexer": "ipython3",
   "version": "3.9.5"
  },
  "toc": {
   "base_numbering": 1,
   "nav_menu": {},
   "number_sections": true,
   "sideBar": true,
   "skip_h1_title": true,
   "title_cell": "Table of Contents",
   "title_sidebar": "Contents",
   "toc_cell": false,
   "toc_position": {},
   "toc_section_display": true,
   "toc_window_display": false
  }
 },
 "nbformat": 4,
 "nbformat_minor": 1
}
